{
 "cells": [
  {
   "cell_type": "markdown",
   "metadata": {
    "collapsed": true
   },
   "source": [
    "1. Поле"
   ]
  },
  {
   "cell_type": "code",
   "execution_count": null,
   "metadata": {},
   "outputs": [],
   "source": [
    "field=[['-','-','-'],\n",
    "       ['-','-','-'],\n",
    "       ['-','-','-']]\n",
    "print(field)\n",
    "field = [['-'] * 3 for _ in range(3)]\n",
    "print(field)"
   ]
  },
  {
   "cell_type": "code",
   "execution_count": null,
   "metadata": {},
   "outputs": [],
   "source": [
    "print('  0 1 2')\n",
    "for i in range(len(field)):\n",
    "    print(str(i)+' '+' '.join(field[i]))"
   ]
  },
  {
   "cell_type": "code",
   "execution_count": null,
   "metadata": {},
   "outputs": [],
   "source": [
    "num ='  a b c'\n",
    "print(num)\n",
    "    \n",
    "for row,i in zip(field,num.split()):\n",
    "    print (f\"{i} {' '.join(str(j) for j in row)}\")"
   ]
  },
  {
   "cell_type": "code",
   "execution_count": null,
   "metadata": {},
   "outputs": [],
   "source": [
    "a = (\"John\", \"Charles\", \"Mike\")\n",
    "b = (\"Jenny\", \"Christy\", \"Monica\")\n",
    "x = zip(a, b)\n",
    "print(tuple(x))"
   ]
  },
  {
   "cell_type": "code",
   "execution_count": null,
   "metadata": {},
   "outputs": [],
   "source": [
    "def show_field(f):\n",
    "    print('  0 1 2')\n",
    "    for i in range(len(f)):\n",
    "        print(str(i)+' '+' '.join(f[i]))\n",
    "show_field(f)"
   ]
  },
  {
   "cell_type": "markdown",
   "metadata": {},
   "source": [
    "2. Опрос координат"
   ]
  },
  {
   "cell_type": "code",
   "execution_count": null,
   "metadata": {},
   "outputs": [],
   "source": [
    "\n",
    "def users_input(f):\n",
    "    while True:\n",
    "        place=input('Введите координаты :').split()\n",
    "        if len(place)!=2:\n",
    "            print('Введите две координаты')\n",
    "            continue\n",
    "        if not(place[0].isdigit() and place[1].isdigit()):\n",
    "            print('Введите числа')\n",
    "            continue\n",
    "        x, y = map(int, place)\n",
    "        if not(x>=0 and x<3 and y>=0 and  y<3):\n",
    "            print('Вышли из диапазона')\n",
    "            continue\n",
    "        if f[x][y]!='-':\n",
    "            print('Клетка занята')\n",
    "            continue\n",
    "        break\n",
    "    return x,y"
   ]
  },
  {
   "cell_type": "code",
   "execution_count": null,
   "metadata": {},
   "outputs": [],
   "source": [
    "count=0\n",
    "while True:\n",
    "    if count%2==0:\n",
    "            user='x'\n",
    "    else:\n",
    "            user = 'o'\n",
    "    show_field(field)\n",
    "    if count<9:\n",
    "        x, y = users_input(field)\n",
    "        field[x][y]=user\n",
    "    if count==9:\n",
    "        print ('Ничья')\n",
    "        break\n",
    "    count+=1"
   ]
  },
  {
   "cell_type": "markdown",
   "metadata": {},
   "source": []
  },
  {
   "cell_type": "code",
   "execution_count": null,
   "metadata": {},
   "outputs": [],
   "source": [
    "def win_1v(f,user):\n",
    "    def check_line(a1, a2, a3, user):\n",
    "        if a1 ==user and a2 == user and a3 == user:\n",
    "            return True\n",
    "        return False\n",
    "    for n in range(3):\n",
    "        if check_line(f[n][0], f[n][1], f[n][2], user) or \\\n",
    "            check_line(f[0][n], f[1][n], f[2][n], user) or \\\n",
    "            check_line(f[0][0], f[1][1], f[2][2], user) or \\\n",
    "                     check_line(f[2][0], f[1][1], f[0][2], user):\n",
    "                        return True\n",
    "    return False\n",
    "    "
   ]
  },
  {
   "cell_type": "code",
   "execution_count": null,
   "metadata": {},
   "outputs": [],
   "source": [
    "count=0\n",
    "while True:\n",
    "    if count%2==0:\n",
    "            user='x'\n",
    "    else:\n",
    "            user = 'o'\n",
    "    show_field(field)\n",
    "    if count<9:\n",
    "        x, y = users_input(field)\n",
    "        field[x][y]=user\n",
    "    if count==9:\n",
    "        print ('Ничья')\n",
    "        break\n",
    "    if win_1v(field,user):\n",
    "            print(f\"Выйграл {user}\")\n",
    "            break\n",
    "    count+=1"
   ]
  },
  {
   "cell_type": "code",
   "execution_count": null,
   "metadata": {},
   "outputs": [],
   "source": [
    "def win_2v(f,user):\n",
    "    win_cord = (((0, 0), (0, 1), (0, 2)), ((1, 0), (1, 1), (1, 2)), ((2, 0), (2, 1), (2, 2)),\n",
    "                ((0, 2), (1, 1), (2, 0)), ((0, 0), (1, 1), (2, 2)), ((0, 0), (1, 0), (2, 0)),\n",
    "                ((0, 1), (1, 1), (2, 1)), ((0, 2), (1, 2), (2, 2)))\n",
    "    for cord in win_cord:\n",
    "        symbols = []\n",
    "        for c in cord:\n",
    "            symbols.append(f[c[0]][c[1]])\n",
    "        if symbols == [user, user, user]:\n",
    "            return True\n",
    "    return False"
   ]
  },
  {
   "cell_type": "code",
   "execution_count": null,
   "metadata": {},
   "outputs": [],
   "source": [
    "def win_3v(f,user):\n",
    "    f_list=[]\n",
    "    for l in f:\n",
    "        f_list+=l\n",
    "    positions=[[0,1,2],[3,4,5],[6,7,8],[0,3,6],[1,4,7],[2,5,8],[0,4,8],[2,4,6]]\n",
    "    indices = set([i for i, x in enumerate(f_list) if x == user])\n",
    "\n",
    "    for p in positions:\n",
    "        if len(indices.intersection(set(p)))==3:\n",
    "            return True\n",
    "    return False"
   ]
  }
 ],
 "metadata": {
  "kernelspec": {
   "display_name": "Python 2",
   "language": "python",
   "name": "python2"
  },
  "language_info": {
   "codemirror_mode": {
    "name": "ipython",
    "version": 2
   },
   "file_extension": ".py",
   "mimetype": "text/x-python",
   "name": "python",
   "nbconvert_exporter": "python",
   "pygments_lexer": "ipython2",
   "version": "2.7.6"
  }
 },
 "nbformat": 4,
 "nbformat_minor": 0
}
